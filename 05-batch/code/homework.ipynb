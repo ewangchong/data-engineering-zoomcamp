{
 "cells": [
  {
   "cell_type": "code",
   "execution_count": 2,
   "id": "00bc6543",
   "metadata": {},
   "outputs": [],
   "source": [
    "import pyspark\n",
    "from pyspark.sql import SparkSession\n",
    "from pyspark.sql import types"
   ]
  },
  {
   "cell_type": "code",
   "execution_count": 3,
   "id": "cd4a0f3d",
   "metadata": {},
   "outputs": [
    {
     "name": "stderr",
     "output_type": "stream",
     "text": [
      "Setting default log level to \"WARN\".\n",
      "To adjust logging level use sc.setLogLevel(newLevel). For SparkR, use setLogLevel(newLevel).\n",
      "25/03/03 21:52:15 WARN NativeCodeLoader: Unable to load native-hadoop library for your platform... using builtin-java classes where applicable\n"
     ]
    }
   ],
   "source": [
    "spark = SparkSession.builder \\\n",
    "    .master(\"local[*]\") \\\n",
    "    .appName('test') \\\n",
    "    .getOrCreate()"
   ]
  },
  {
   "cell_type": "markdown",
   "id": "2c2978e4-a611-440a-b227-8add0f1f9e62",
   "metadata": {},
   "source": [
    "**Q1**: Spark Version"
   ]
  },
  {
   "cell_type": "code",
   "execution_count": 4,
   "id": "eb3e4c36",
   "metadata": {},
   "outputs": [
    {
     "data": {
      "text/plain": [
       "'3.5.4'"
      ]
     },
     "execution_count": 4,
     "metadata": {},
     "output_type": "execute_result"
    }
   ],
   "source": [
    "spark.version"
   ]
  },
  {
   "cell_type": "markdown",
   "id": "8dae6d0d-b752-4f00-85e2-772a569fe439",
   "metadata": {},
   "source": [
    "**Q2** Question 2: Yellow October 2024"
   ]
  },
  {
   "cell_type": "code",
   "execution_count": null,
   "id": "0a3399a3",
   "metadata": {},
   "outputs": [],
   "source": [
    "!wget https://d37ci6vzurychx.cloudfront.net/trip-data/yellow_tripdata_2024-10.parquet"
   ]
  },
  {
   "cell_type": "code",
   "execution_count": 6,
   "id": "68bc8b72",
   "metadata": {},
   "outputs": [
    {
     "name": "stderr",
     "output_type": "stream",
     "text": [
      "                                                                                "
     ]
    }
   ],
   "source": [
    "df = spark.read \\\n",
    "    .parquet('yellow_tripdata_2024-10.parquet')\n",
    "\n",
    "df = df.repartition(4)\n",
    "\n",
    "df.write.mode('overwrite').parquet('data/pq/yellow/2024/10/')"
   ]
  },
  {
   "cell_type": "code",
   "execution_count": 7,
   "id": "e9ce152d-6555-4d48-acdb-fdbd67a1a4d8",
   "metadata": {},
   "outputs": [
    {
     "name": "stdout",
     "output_type": "stream",
     "text": [
      "total 188928\n",
      "-rw-r--r--@ 1 chongwang  staff     0B Mar  3 21:52 _SUCCESS\n",
      "-rw-r--r--@ 1 chongwang  staff    22M Mar  3 21:52 part-00000-82ddd449-225e-4d50-894c-267f36bb5802-c000.snappy.parquet\n",
      "-rw-r--r--@ 1 chongwang  staff    22M Mar  3 21:52 part-00001-82ddd449-225e-4d50-894c-267f36bb5802-c000.snappy.parquet\n",
      "-rw-r--r--@ 1 chongwang  staff    22M Mar  3 21:52 part-00002-82ddd449-225e-4d50-894c-267f36bb5802-c000.snappy.parquet\n",
      "-rw-r--r--@ 1 chongwang  staff    22M Mar  3 21:52 part-00003-82ddd449-225e-4d50-894c-267f36bb5802-c000.snappy.parquet\n"
     ]
    }
   ],
   "source": [
    "!ls -hl data/pq/yellow/2024/10/"
   ]
  },
  {
   "cell_type": "markdown",
   "id": "48b01d2f",
   "metadata": {},
   "source": [
    "**Q3**: How many taxi trips were there on the 15th of October?"
   ]
  },
  {
   "cell_type": "code",
   "execution_count": 8,
   "id": "f7489aea",
   "metadata": {},
   "outputs": [],
   "source": [
    "from pyspark.sql import functions as F"
   ]
  },
  {
   "cell_type": "code",
   "execution_count": 9,
   "id": "643e59aa",
   "metadata": {},
   "outputs": [
    {
     "data": {
      "text/plain": [
       "['VendorID',\n",
       " 'tpep_pickup_datetime',\n",
       " 'tpep_dropoff_datetime',\n",
       " 'passenger_count',\n",
       " 'trip_distance',\n",
       " 'RatecodeID',\n",
       " 'store_and_fwd_flag',\n",
       " 'PULocationID',\n",
       " 'DOLocationID',\n",
       " 'payment_type',\n",
       " 'fare_amount',\n",
       " 'extra',\n",
       " 'mta_tax',\n",
       " 'tip_amount',\n",
       " 'tolls_amount',\n",
       " 'improvement_surcharge',\n",
       " 'total_amount',\n",
       " 'congestion_surcharge',\n",
       " 'Airport_fee']"
      ]
     },
     "execution_count": 9,
     "metadata": {},
     "output_type": "execute_result"
    }
   ],
   "source": [
    "df.columns"
   ]
  },
  {
   "cell_type": "code",
   "execution_count": 10,
   "id": "6c2500fd",
   "metadata": {},
   "outputs": [
    {
     "data": {
      "text/plain": [
       "128893"
      ]
     },
     "execution_count": 10,
     "metadata": {},
     "output_type": "execute_result"
    }
   ],
   "source": [
    "df.withColumn('pickup_date', F.to_date(df.tpep_pickup_datetime)).filter(\"pickup_date = '2024-10-15'\").count()"
   ]
  },
  {
   "cell_type": "markdown",
   "id": "8b9a5617-d8bf-4ee0-b89a-c893a694c4fa",
   "metadata": {},
   "source": [
    "Question 4: Longest trip"
   ]
  },
  {
   "cell_type": "code",
   "execution_count": 11,
   "id": "dd7ae60d",
   "metadata": {},
   "outputs": [],
   "source": [
    "df.createOrReplaceTempView('trips_data')"
   ]
  },
  {
   "cell_type": "code",
   "execution_count": 12,
   "id": "279d9161",
   "metadata": {},
   "outputs": [
    {
     "name": "stderr",
     "output_type": "stream",
     "text": [
      "                                                                                "
     ]
    },
    {
     "name": "stdout",
     "output_type": "stream",
     "text": [
      "+------------+\n",
      "|longest_trip|\n",
      "+------------+\n",
      "|         162|\n",
      "+------------+\n",
      "\n"
     ]
    }
   ],
   "source": [
    "spark.sql(\"\"\"\n",
    "SELECT\n",
    "    MAX(DATE_DIFF(HOUR, tpep_pickup_datetime, tpep_dropoff_datetime)) as longest_trip\n",
    "FROM\n",
    "    trips_data    \n",
    "\"\"\").show()"
   ]
  },
  {
   "cell_type": "markdown",
   "id": "d915096b",
   "metadata": {},
   "source": [
    "Question 5: User Interface\n",
    "Spark’s User Interface which shows the application's dashboard runs on which local port?\n",
    "\n",
    "4040"
   ]
  },
  {
   "cell_type": "markdown",
   "id": "84534c9d-fc97-46b8-9c7f-14a1db4be499",
   "metadata": {},
   "source": [
    "Question 6: Least frequent pickup location zone\n",
    "Using the zone lookup data and the Yellow October 2024 data, what is the name of the LEAST frequent pickup location Zone?"
   ]
  },
  {
   "cell_type": "code",
   "execution_count": null,
   "id": "65ae1556-44da-4fc8-926f-f38e5274f983",
   "metadata": {},
   "outputs": [],
   "source": [
    "!wget https://d37ci6vzurychx.cloudfront.net/misc/taxi_zone_lookup.csv"
   ]
  },
  {
   "cell_type": "code",
   "execution_count": 13,
   "id": "74b7f664",
   "metadata": {},
   "outputs": [],
   "source": [
    "df_zones = spark.read.option('Header', True).csv('taxi_zone_lookup.csv')"
   ]
  },
  {
   "cell_type": "code",
   "execution_count": 14,
   "id": "81642d3b",
   "metadata": {},
   "outputs": [
    {
     "data": {
      "text/plain": [
       "[Row(LocationID='1', Borough='EWR', Zone='Newark Airport', service_zone='EWR'),\n",
       " Row(LocationID='2', Borough='Queens', Zone='Jamaica Bay', service_zone='Boro Zone'),\n",
       " Row(LocationID='3', Borough='Bronx', Zone='Allerton/Pelham Gardens', service_zone='Boro Zone'),\n",
       " Row(LocationID='4', Borough='Manhattan', Zone='Alphabet City', service_zone='Yellow Zone'),\n",
       " Row(LocationID='5', Borough='Staten Island', Zone='Arden Heights', service_zone='Boro Zone')]"
      ]
     },
     "execution_count": 14,
     "metadata": {},
     "output_type": "execute_result"
    }
   ],
   "source": [
    "df_zones.head(5)"
   ]
  },
  {
   "cell_type": "code",
   "execution_count": 15,
   "id": "4f460dda",
   "metadata": {},
   "outputs": [
    {
     "data": {
      "text/plain": [
       "['VendorID',\n",
       " 'tpep_pickup_datetime',\n",
       " 'tpep_dropoff_datetime',\n",
       " 'passenger_count',\n",
       " 'trip_distance',\n",
       " 'RatecodeID',\n",
       " 'store_and_fwd_flag',\n",
       " 'PULocationID',\n",
       " 'DOLocationID',\n",
       " 'payment_type',\n",
       " 'fare_amount',\n",
       " 'extra',\n",
       " 'mta_tax',\n",
       " 'tip_amount',\n",
       " 'tolls_amount',\n",
       " 'improvement_surcharge',\n",
       " 'total_amount',\n",
       " 'congestion_surcharge',\n",
       " 'Airport_fee']"
      ]
     },
     "execution_count": 15,
     "metadata": {},
     "output_type": "execute_result"
    }
   ],
   "source": [
    "df.columns"
   ]
  },
  {
   "cell_type": "code",
   "execution_count": 17,
   "id": "ad8f0101",
   "metadata": {},
   "outputs": [],
   "source": [
    "df_zones.createOrReplaceTempView('zones')"
   ]
  },
  {
   "cell_type": "code",
   "execution_count": 18,
   "id": "6f738414",
   "metadata": {},
   "outputs": [
    {
     "name": "stderr",
     "output_type": "stream",
     "text": [
      "[Stage 20:====================================>                     (5 + 3) / 8]"
     ]
    },
    {
     "name": "stdout",
     "output_type": "stream",
     "text": [
      "+--------------------+-------+\n",
      "|                Zone|n_trips|\n",
      "+--------------------+-------+\n",
      "|Governor's Island...|      1|\n",
      "|       Rikers Island|      2|\n",
      "|       Arden Heights|      2|\n",
      "|         Jamaica Bay|      3|\n",
      "| Green-Wood Cemetery|      3|\n",
      "|   Rossville/Woodrow|      4|\n",
      "|       West Brighton|      4|\n",
      "|       Port Richmond|      4|\n",
      "|Eltingville/Annad...|      4|\n",
      "|Charleston/Totten...|      4|\n",
      "|         Great Kills|      6|\n",
      "|        Crotona Park|      6|\n",
      "|     Mariners Harbor|      7|\n",
      "|Heartland Village...|      7|\n",
      "|Saint George/New ...|      9|\n",
      "|             Oakwood|      9|\n",
      "|New Dorp/Midland ...|     10|\n",
      "|       Broad Channel|     10|\n",
      "|         Westerleigh|     12|\n",
      "|     Pelham Bay Park|     12|\n",
      "+--------------------+-------+\n",
      "only showing top 20 rows\n",
      "\n"
     ]
    },
    {
     "name": "stderr",
     "output_type": "stream",
     "text": [
      "                                                                                "
     ]
    }
   ],
   "source": [
    "spark.sql(\"\"\"\n",
    "SELECT\n",
    "    Zone\n",
    "    ,COUNT(*) as n_trips\n",
    "FROM\n",
    "    trips_data as t\n",
    "LEFT JOIN\n",
    "    zones as z\n",
    "ON\n",
    "    t.PULocationID = z.LocationID\n",
    "GROUP BY 1\n",
    "ORDER BY 2 ASC\n",
    "\n",
    "\"\"\").show()"
   ]
  },
  {
   "cell_type": "code",
   "execution_count": null,
   "id": "e4b754d1",
   "metadata": {},
   "outputs": [],
   "source": []
  }
 ],
 "metadata": {
  "kernelspec": {
   "display_name": "Python 3 (ipykernel)",
   "language": "python",
   "name": "python3"
  },
  "language_info": {
   "codemirror_mode": {
    "name": "ipython",
    "version": 3
   },
   "file_extension": ".py",
   "mimetype": "text/x-python",
   "name": "python",
   "nbconvert_exporter": "python",
   "pygments_lexer": "ipython3",
   "version": "3.13.2"
  }
 },
 "nbformat": 4,
 "nbformat_minor": 5
}
